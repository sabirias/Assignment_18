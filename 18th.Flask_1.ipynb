{
 "cells": [
  {
   "cell_type": "code",
   "execution_count": 1,
   "id": "c50d2582-c56b-47a7-abdc-d1dd708ab653",
   "metadata": {},
   "outputs": [
    {
     "name": "stdout",
     "output_type": "stream",
     "text": [
      "Object `Framework` not found.\n"
     ]
    }
   ],
   "source": [
    "Q1. What is Flask Framework? What are the advantages of Flask Framework?"
   ]
  },
  {
   "cell_type": "code",
   "execution_count": 2,
   "id": "8026282b-1114-4bf7-9a63-e21573effa35",
   "metadata": {},
   "outputs": [
    {
     "ename": "SyntaxError",
     "evalue": "unterminated string literal (detected at line 30) (1531727170.py, line 30)",
     "output_type": "error",
     "traceback": [
      "\u001b[1;36m  Cell \u001b[1;32mIn[2], line 30\u001b[1;36m\u001b[0m\n\u001b[1;33m    contributes to the framework's robustness.\u001b[0m\n\u001b[1;37m                                ^\u001b[0m\n\u001b[1;31mSyntaxError\u001b[0m\u001b[1;31m:\u001b[0m unterminated string literal (detected at line 30)\n"
     ]
    }
   ],
   "source": [
    "Flask is a lightweight and flexible web framework for Python. It is designed to be simple and easy to use, \n",
    "allowing developers to quickly build web applications with minimal code. Flask is considered a micro-framework,\n",
    "meaning it provides the essentials for building web applications but leaves many decisions to the developer,\n",
    "allowing for greater flexibility and customization.\n",
    "\n",
    "Advantages of Flask Framework:\n",
    "\n",
    "1. Simplicity: Flask follows a minimalistic approach, making it easy to understand and get started with. \n",
    "               Its simplicity allows developers to focus on building specific features without being \n",
    "               overwhelmed by unnecessary complexity.\n",
    "\n",
    "2. Flexibility: Flask is unopinionated and does not impose a specific way of doing things. This gives\n",
    "                developers the flexibility to choose the tools and libraries they prefer for various tasks,\n",
    "                such as database integration, templating, and authentication.\n",
    "\n",
    "3. Extensibility: Flask is designed to be modular, allowing developers to easily extend its functionality by \n",
    "                  integrating third-party extensions. This modular architecture enables the addition of features \n",
    "                  as needed, contributing to a lean core.\n",
    "\n",
    "4. Jinja2 Templating: Flask uses the Jinja2 template engine, which allows developers to create dynamic HTML \n",
    "                      content with ease. This separation of logic and presentation simplifies the development \n",
    "                       of web applications.\n",
    "\n",
    "5. Built-in Development Server: Flask comes with a built-in development server that makes it easy to test and \n",
    "                                debug applications during the development process. While not suitable for production \n",
    "                                use, it provides a convenient way to get started quickly.\n",
    "\n",
    "6. Werkzeug Integration: Flask is built on top of the Werkzeug WSGI toolkit, which provides a set of utilities \n",
    "                         for handling HTTP requests, routing, and other web-related tasks. This integration \n",
    "                         contributes to the framework's robustness.\n",
    "\n",
    "7. Active Community: Flask has a large and active community of developers. This means that there are plenty of resources,\n",
    "                     tutorials, and extensions available to help developers as they build and scale their applications.\n",
    "\n",
    "8. Scalability: Although Flask is often considered a micro-framework, it can be used to build scalable applications.\n",
    "                By integrating with other libraries and tools, developers can expand Flask applications to handle more \n",
    "                complex scenarios.\n",
    "\n",
    "9. RESTful Support: Flask provides features that make it easy to build RESTful APIs. This is useful for developers \n",
    "                    who need to create web services and APIs to interact with their applications.\n",
    "\n",
    "Overall, Flask is a versatile framework suitable for a wide range of web development projects, from small \n",
    "prototypes to larger, more complex applications. Its simplicity and flexibility make it an excellent choice \n",
    "for developers who value the ability to make decisions based on their specific project requirements."
   ]
  },
  {
   "cell_type": "code",
   "execution_count": null,
   "id": "b7538fda-7084-472a-807b-a9ba0d9821ea",
   "metadata": {},
   "outputs": [],
   "source": [
    "Q2. Create a simple Flask application to display ‘Hello World!!’. Attach the screenshot of the output in \n",
    "    Jupyter Notebook."
   ]
  },
  {
   "cell_type": "code",
   "execution_count": 3,
   "id": "dbb4e3f0-e0cf-4814-b4a0-8a90493d9e02",
   "metadata": {},
   "outputs": [
    {
     "name": "stdout",
     "output_type": "stream",
     "text": [
      " * Serving Flask app '__main__'\n",
      " * Debug mode: off\n"
     ]
    },
    {
     "name": "stderr",
     "output_type": "stream",
     "text": [
      "WARNING: This is a development server. Do not use it in a production deployment. Use a production WSGI server instead.\n",
      " * Running on http://127.0.0.1:5000\n",
      "Press CTRL+C to quit\n"
     ]
    }
   ],
   "source": [
    "from flask import Flask\n",
    "\n",
    "app = Flask(__name__)\n",
    "\n",
    "@app.route('/')\n",
    "def hello_world():\n",
    "    return \"Hell0 World!!\"\n",
    "\n",
    "if __name__ == '__main__':\n",
    "    app.run()"
   ]
  },
  {
   "cell_type": "markdown",
   "id": "ae81189e-ced7-4bb9-9414-a3a1c29a1cc7",
   "metadata": {},
   "source": [
    "<img src= \"Screenshot 2023-12-24 105511.png\">"
   ]
  },
  {
   "cell_type": "code",
   "execution_count": null,
   "id": "995bd975-3489-4aec-97f5-6cb4d6e8833a",
   "metadata": {},
   "outputs": [],
   "source": [
    "Q3. What is App routing in Flask? Why do we use app routes?"
   ]
  },
  {
   "cell_type": "code",
   "execution_count": null,
   "id": "40dcb6db-f03b-42c2-8cb8-0731a0a1b407",
   "metadata": {},
   "outputs": [],
   "source": [
    "In Flask, app routing refers to the mechanism of associating different URLs with corresponding Python functions,\n",
    "allowing you to define how the application responds to different HTTP requests. This is achieved using the `@app.route`\n",
    "decorator in Flask.\n",
    "\n",
    "Here's a simple example:\n",
    "\n",
    "from flask import Flask\n",
    "\n",
    "app = Flask(__name__)\n",
    "\n",
    "@app.route('/')\n",
    "def home():\n",
    "    return 'Home Page'\n",
    "\n",
    "@app.route('/about')\n",
    "def about():\n",
    "    return 'About Page'\n",
    "\n",
    "if __name__ == '__main__':\n",
    "    app.run()\n",
    "\n",
    "In this example, there are two routes defined:\n",
    "\n",
    "1. The root URL (`'/'`) is associated with the `home` function.\n",
    "2. The '/about' URL is associated with the `about` function.\n",
    "\n",
    "When a user accesses the root URL (`/`), the `home` function is called and returns 'Home Page'. Similarly,\n",
    "when a user accesses the '/about' URL, the `about` function is called, and 'About Page' is returned.\n",
    "\n",
    "### Why do we use app routes in Flask?\n",
    "\n",
    "1. URL Mapping: App routes allow you to map specific URLs to the corresponding functionality in your Flask application. \n",
    "This makes it easy to organize and structure your web application.\n",
    "\n",
    "2. Code Separation: By using app routes, you can separate different parts of your application logic into distinct\n",
    "functions. This enhances code organization and maintainability.\n",
    "\n",
    "3. Modularization: Flask app routes promote a modular approach to building web applications. Each route can be\n",
    "handled by a separate function, making it easier to add, remove, or modify specific features without affecting\n",
    "the entire application.\n",
    "\n",
    "4. Readability: App routes improve the readability of your code. Instead of having all the logic in a single file\n",
    "or function, you can have smaller functions dedicated to specific routes, making the code more understandable.\n",
    "\n",
    "5. Scalability: As your application grows, you can continue adding more routes to handle different aspects or features.\n",
    "This makes it scalable and adaptable to changing requirements.\n",
    "\n",
    "6. RESTful APIs: In the context of building RESTful APIs with Flask, app routes are crucial. Each route corresponds to\n",
    "a specific endpoint, and the HTTP methods (GET, POST, etc.) define the operations that can be performed.\n",
    "\n",
    "In summary, app routes in Flask provide a clean and organized way to define the behavior of your web application or API,\n",
    "making it easy to manage and scale your project."
   ]
  },
  {
   "cell_type": "code",
   "execution_count": null,
   "id": "01745453-3df3-4ecd-991c-cb7667aa7a3b",
   "metadata": {},
   "outputs": [],
   "source": [
    "Q4.  Create a “/welcome” route to display the welcome message “Welcome to ABC Corporation” and a “/” \n",
    "    route to show the following details:\n",
    "\n",
    "    Company Name: ABC Corporation\n",
    "\n",
    "    Location: India\n",
    "\n",
    "    Contact Detail: 999-999-9999"
   ]
  },
  {
   "cell_type": "code",
   "execution_count": 10,
   "id": "2a2ba3b3-eff0-4c75-81df-f13ca70cc20b",
   "metadata": {},
   "outputs": [
    {
     "name": "stdout",
     "output_type": "stream",
     "text": [
      " * Serving Flask app '__main__'\n",
      " * Debug mode: off\n"
     ]
    },
    {
     "name": "stderr",
     "output_type": "stream",
     "text": [
      "WARNING: This is a development server. Do not use it in a production deployment. Use a production WSGI server instead.\n",
      " * Running on http://127.0.0.1:5000\n",
      "Press CTRL+C to quit\n",
      "127.0.0.1 - - [24/Dec/2023 11:53:16] \"GET / HTTP/1.1\" 200 -\n"
     ]
    }
   ],
   "source": [
    "from flask import Flask, render_template\n",
    "\n",
    "app = Flask(__name__)\n",
    "\n",
    "@app.route('/Welcome')\n",
    "def welcome():\n",
    "    return 'Welcome to ABC Corporation'\n",
    "\n",
    "@app.route('/')\n",
    "def company_details():\n",
    "    return '''\n",
    "    <h2>Company Name: ABC Corporation</h2>\n",
    "    <p>Location: India</p>\n",
    "    <p>Contact Detail: 999-999-9999</p>\n",
    "    '''\n",
    "\n",
    "if __name__ == '__main__':\n",
    "    app.run()\n"
   ]
  },
  {
   "cell_type": "code",
   "execution_count": 12,
   "id": "f409ceec-51b3-405f-81f5-01a5acdb6194",
   "metadata": {},
   "outputs": [
    {
     "name": "stdout",
     "output_type": "stream",
     "text": [
      " * Serving Flask app '__main__'\n",
      " * Debug mode: off\n"
     ]
    },
    {
     "name": "stderr",
     "output_type": "stream",
     "text": [
      "WARNING: This is a development server. Do not use it in a production deployment. Use a production WSGI server instead.\n",
      " * Running on http://127.0.0.1:5000\n",
      "Press CTRL+C to quit\n",
      "127.0.0.1 - - [24/Dec/2023 11:54:30] \"GET / HTTP/1.1\" 200 -\n",
      "127.0.0.1 - - [24/Dec/2023 11:54:43] \"GET /welcome HTTP/1.1\" 200 -\n",
      "127.0.0.1 - - [24/Dec/2023 11:55:23] \"GET / HTTP/1.1\" 200 -\n"
     ]
    }
   ],
   "source": [
    "from flask import Flask, render_template\n",
    "\n",
    "app = Flask(__name__)\n",
    "\n",
    "@app.route('/welcome')\n",
    "def welcome():\n",
    "    return 'Welcome to ABC Corporation'\n",
    "\n",
    "@app.route('/')\n",
    "def company_details():\n",
    "    return '''\n",
    "    <h2>Company Name: ABC Corporation</h2>\n",
    "    <p>Location: India</p>\n",
    "    <p>Contact Detail: 999-999-9999</p>\n",
    "    '''\n",
    "\n",
    "if __name__ == '__main__':\n",
    "    app.run()\n"
   ]
  },
  {
   "cell_type": "markdown",
   "id": "2d441e0f-5960-401d-8f74-7b783ac8e194",
   "metadata": {},
   "source": [
    "<img src=\"Screenshot1.png\">"
   ]
  },
  {
   "cell_type": "markdown",
   "id": "6c5b62f2-c521-4340-918e-5420ffe13122",
   "metadata": {},
   "source": [
    "<img src=\"Screenshot.png\">"
   ]
  },
  {
   "cell_type": "code",
   "execution_count": null,
   "id": "d50038b6-635e-4422-9854-16ae33c76b80",
   "metadata": {},
   "outputs": [],
   "source": [
    "Q5. What function is used in Flask for URL Building? Write a Python code to demonstrate the working of the \n",
    "    url_for() function.\n",
    "\n",
    "ANS:-  In Flask, the url_for() function is used for URL building. This function generates a URL for the \n",
    "       specified endpoint, taking into account the routing rules defined in your application."
   ]
  },
  {
   "cell_type": "code",
   "execution_count": 15,
   "id": "3d7f46a8-ef99-460a-9d9a-d51ad0bc0322",
   "metadata": {},
   "outputs": [
    {
     "ename": "AttributeError",
     "evalue": "'Flask' object has no attribute 'text'",
     "output_type": "error",
     "traceback": [
      "\u001b[1;31m---------------------------------------------------------------------------\u001b[0m",
      "\u001b[1;31mAttributeError\u001b[0m                            Traceback (most recent call last)",
      "Cell \u001b[1;32mIn[15], line 18\u001b[0m\n\u001b[0;32m     15\u001b[0m     \u001b[38;5;28;01mreturn\u001b[39;00m \u001b[38;5;124m'\u001b[39m\u001b[38;5;124mContact Page\u001b[39m\u001b[38;5;124m'\u001b[39m\n\u001b[0;32m     17\u001b[0m \u001b[38;5;28;01mif\u001b[39;00m \u001b[38;5;18m__name__\u001b[39m \u001b[38;5;241m==\u001b[39m \u001b[38;5;124m'\u001b[39m\u001b[38;5;124m__main__\u001b[39m\u001b[38;5;124m'\u001b[39m:\n\u001b[1;32m---> 18\u001b[0m     \u001b[38;5;28;01mwith\u001b[39;00m \u001b[43mapp\u001b[49m\u001b[38;5;241;43m.\u001b[39;49m\u001b[43mtext\u001b[49m():\n\u001b[0;32m     19\u001b[0m         \u001b[38;5;66;03m# Generating URLs using url_for\u001b[39;00m\n\u001b[0;32m     20\u001b[0m         home_url \u001b[38;5;241m=\u001b[39m url_for(\u001b[38;5;124m'\u001b[39m\u001b[38;5;124mhome\u001b[39m\u001b[38;5;124m'\u001b[39m)\n\u001b[0;32m     21\u001b[0m         about_url \u001b[38;5;241m=\u001b[39m url_for(\u001b[38;5;124m'\u001b[39m\u001b[38;5;124mabout\u001b[39m\u001b[38;5;124m'\u001b[39m)\n",
      "\u001b[1;31mAttributeError\u001b[0m: 'Flask' object has no attribute 'text'"
     ]
    }
   ],
   "source": [
    "from flask import Flask, url_for\n",
    "\n",
    "app = Flask(__name__)\n",
    "\n",
    "@app.route('/')\n",
    "def home():\n",
    "    return 'Home Page'\n",
    "\n",
    "@app.route('/about')\n",
    "def about():\n",
    "    return 'About Page'\n",
    "\n",
    "@app.route('/contact')\n",
    "def contact():\n",
    "    return 'Contact Page'\n",
    "\n",
    "if __name__ == '__main__':\n",
    "    with app.test():\n",
    "        # Generating URLs using url_for\n",
    "        home_url = url_for('home')\n",
    "        about_url = url_for('about')\n",
    "        contact_url = url_for('contact')\n",
    "\n",
    "        print(f'Home URL: {home_url}')\n",
    "        print(f'About URL: {about_url}')\n",
    "        print(f'Contact URL: {contact_url}')\n"
   ]
  },
  {
   "cell_type": "code",
   "execution_count": null,
   "id": "5089dd66-4255-4430-84ab-8d991951c18d",
   "metadata": {},
   "outputs": [],
   "source": []
  }
 ],
 "metadata": {
  "kernelspec": {
   "display_name": "Python 3 (ipykernel)",
   "language": "python",
   "name": "python3"
  },
  "language_info": {
   "codemirror_mode": {
    "name": "ipython",
    "version": 3
   },
   "file_extension": ".py",
   "mimetype": "text/x-python",
   "name": "python",
   "nbconvert_exporter": "python",
   "pygments_lexer": "ipython3",
   "version": "3.12.0"
  }
 },
 "nbformat": 4,
 "nbformat_minor": 5
}
